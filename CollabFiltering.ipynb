{
 "cells": [
  {
   "cell_type": "code",
   "execution_count": 151,
   "metadata": {
    "collapsed": true,
    "deletable": true,
    "editable": true
   },
   "outputs": [],
   "source": [
    "import json\n",
    "from collections import defaultdict\n",
    "import pandas as pd"
   ]
  },
  {
   "cell_type": "markdown",
   "metadata": {
    "deletable": true,
    "editable": true
   },
   "source": [
    "# Part 1"
   ]
  },
  {
   "cell_type": "code",
   "execution_count": 152,
   "metadata": {
    "collapsed": false,
    "deletable": true,
    "editable": true
   },
   "outputs": [
    {
     "name": "stdout",
     "output_type": "stream",
     "text": [
      "Enter dish ID: 187\n",
      "Enter user ID: 5\n"
     ]
    }
   ],
   "source": [
    "#prompting dish id and user id\n",
    "dishId = input('Enter dish ID: ')\n",
    "userId = input('Enter user ID: ')"
   ]
  },
  {
   "cell_type": "code",
   "execution_count": 153,
   "metadata": {
    "collapsed": false,
    "deletable": true,
    "editable": true,
    "scrolled": true
   },
   "outputs": [],
   "source": [
    "list1 = json.load(open('user_ratings.json', 'r'))\n",
    "#print(list1)"
   ]
  },
  {
   "cell_type": "code",
   "execution_count": 154,
   "metadata": {
    "collapsed": false,
    "deletable": true,
    "editable": true
   },
   "outputs": [],
   "source": [
    "dictionary = {}\n",
    "for i in list1:\n",
    "    dictionary.setdefault(i, list1[i])\n",
    "#print(dictionary.get(\"0\"))"
   ]
  },
  {
   "cell_type": "code",
   "execution_count": 155,
   "metadata": {
    "collapsed": false,
    "deletable": true,
    "editable": true,
    "scrolled": true
   },
   "outputs": [],
   "source": [
    "final_dict = {}\n",
    "for key,value in dictionary.items():\n",
    "    dict2 = {}\n",
    "    for i in value:\n",
    "        #print(i)\n",
    "        dict2[i[0]] = i[1]\n",
    "    final_dict[key] = dict2\n",
    "#print(final_dict)"
   ]
  },
  {
   "cell_type": "code",
   "execution_count": 156,
   "metadata": {
    "collapsed": false,
    "deletable": true,
    "editable": true,
    "scrolled": true
   },
   "outputs": [],
   "source": [
    "#calculate cosine similarities of all documents with userID and dishID where dishID exists\n",
    "\n",
    "#first, calculate sub_mean for userID\n",
    "a = final_dict.get(str(userId))\n",
    "total = 0\n",
    "for key, value in a.items():\n",
    "    total = total + value\n",
    "sub_mean = total/len(a)\n",
    "#print(sub_mean)"
   ]
  },
  {
   "cell_type": "code",
   "execution_count": 157,
   "metadata": {
    "collapsed": false,
    "deletable": true,
    "editable": true,
    "scrolled": true
   },
   "outputs": [],
   "source": [
    "#calculate adjusted means\n",
    "i = 0\n",
    "averages = {}\n",
    "while (i < len(final_dict)):\n",
    "    total = 0\n",
    "    dict_sub = final_dict.get(str(i))\n",
    "    for k in dict_sub:\n",
    "        total = total + dict_sub[k]\n",
    "    average = total/len(dict_sub)\n",
    "    averages[i] = average\n",
    "    #print(average)\n",
    "    #for n in final_dict[str(i)]:\n",
    "        #final_dict[str(i)][n] -= average\n",
    "    i = i + 1\n",
    "#print(final_dict)"
   ]
  },
  {
   "cell_type": "code",
   "execution_count": 158,
   "metadata": {
    "collapsed": false,
    "deletable": true,
    "editable": true,
    "scrolled": true
   },
   "outputs": [],
   "source": [
    "import math\n",
    "\n",
    "#calculate cosine similarity with weighted means \n",
    "temp_dict = final_dict.get(str(userId))\n",
    "i = 0\n",
    "cosineSimilarities = {}\n",
    "actualValuesdishID = {}\n",
    "while i < len(final_dict):\n",
    "    #only consider users with validdishID ratings\n",
    "    dict_sub = final_dict.get(str(i))\n",
    "    if (dict_sub.get(int(dishId))) != None:\n",
    "        #find common ratings between the subset\n",
    "        numerator = 0\n",
    "        denominatorLeft = 0\n",
    "        denominatorRight = 0\n",
    "        actualValuesdishID[i] = dict_sub.get(int(dishId))\n",
    "        for key in dict_sub:\n",
    "            if temp_dict.get(key) != None:\n",
    "                mult = temp_dict.get(key) * dict_sub.get(key)\n",
    "                numerator = mult + numerator\n",
    "                denominatorRight = (temp_dict.get(key) * temp_dict.get(key)) + denominatorRight\n",
    "                denominatorLeft = (dict_sub.get(key) * dict_sub.get(key)) + denominatorLeft\n",
    "        if (denominatorRight != 0 and denominatorLeft != 0):\n",
    "            cosineSimilarities[i] = numerator/ (math.sqrt(denominatorRight) * math.sqrt(denominatorLeft))\n",
    "    i = i + 1\n",
    "#print(cosineSimilarities)\n",
    "#print(\"SPACEEEE\")\n",
    "#print (actualValuesdishID)"
   ]
  },
  {
   "cell_type": "code",
   "execution_count": 159,
   "metadata": {
    "collapsed": false,
    "deletable": true,
    "editable": true
   },
   "outputs": [
    {
     "name": "stdout",
     "output_type": "stream",
     "text": [
      "Rating:  2.1081614558557376 (Estimated)\n"
     ]
    }
   ],
   "source": [
    "#making the prediction\n",
    "\n",
    "if (final_dict.get(str(userId)).get(int(dishId)) == None):\n",
    "    numerator = 0\n",
    "    denominator = 0\n",
    "    i = 0\n",
    "    for key in cosineSimilarities:\n",
    "        numerator = (cosineSimilarities.get(key) * \n",
    "                      (actualValuesdishID.get(key) - averages.get(key))) + numerator\n",
    "        denominator = cosineSimilarities.get(key) + denominator\n",
    "    prediction = sub_mean + (numerator/denominator)\n",
    "    print(\"Rating: \", prediction, \"(Estimated)\")\n",
    "else:\n",
    "    print(\"Rating: \", final_dict.get(str(userId)).get(int(dishId)), \"(Existing)\")"
   ]
  },
  {
   "cell_type": "markdown",
   "metadata": {
    "deletable": true,
    "editable": true
   },
   "source": [
    "# Part 2"
   ]
  },
  {
   "cell_type": "code",
   "execution_count": 160,
   "metadata": {
    "collapsed": false,
    "deletable": true,
    "editable": true
   },
   "outputs": [
    {
     "name": "stdout",
     "output_type": "stream",
     "text": [
      "Enter user ID: 17\n",
      "Enter number of ingredients: 2\n",
      "Enter Item: ricotta\n",
      "Enter Item: garlic\n"
     ]
    }
   ],
   "source": [
    "#prompting dish id and user id\n",
    "userID = input('Enter user ID: ')\n",
    "ingredients = input('Enter number of ingredients: ')\n",
    "i = 0\n",
    "ingredList = []\n",
    "while i < int(ingredients):\n",
    "    a = input('Enter Item: ')\n",
    "    ingredList.append(a)\n",
    "    i = i + 1"
   ]
  },
  {
   "cell_type": "code",
   "execution_count": 161,
   "metadata": {
    "collapsed": false,
    "deletable": true,
    "editable": true
   },
   "outputs": [],
   "source": [
    "#read in csv\n",
    "dishes = pd.read_csv('dishes.csv')"
   ]
  },
  {
   "cell_type": "code",
   "execution_count": 162,
   "metadata": {
    "collapsed": false,
    "deletable": true,
    "editable": true,
    "scrolled": true
   },
   "outputs": [],
   "source": [
    "for i in ingredList:\n",
    "    dishes = dishes[(dishes[i] == 1)]\n",
    "#dishes.head(n=20)"
   ]
  },
  {
   "cell_type": "code",
   "execution_count": 163,
   "metadata": {
    "collapsed": false,
    "deletable": true,
    "editable": true
   },
   "outputs": [
    {
     "name": "stderr",
     "output_type": "stream",
     "text": [
      "/Users/neilnachnani/.pyenv/versions/3.6.1/lib/python3.6/site-packages/ipykernel/__main__.py:2: DeprecationWarning: \n",
      ".ix is deprecated. Please use\n",
      ".loc for label based indexing or\n",
      ".iloc for positional indexing\n",
      "\n",
      "See the documentation here:\n",
      "http://pandas.pydata.org/pandas-docs/stable/indexing.html#ix-indexer-is-deprecated\n",
      "  from ipykernel import kernelapp as app\n"
     ]
    }
   ],
   "source": [
    "#store dish_ids in list\n",
    "validDishes = dishes.ix[:, 0].tolist()"
   ]
  },
  {
   "cell_type": "code",
   "execution_count": 164,
   "metadata": {
    "collapsed": false
   },
   "outputs": [],
   "source": [
    "#find estimated ratings for each of these dishes and reccommend one\n",
    "\n",
    "predictions_dict = {}\n",
    "existing_dict = {}\n",
    "for dish in validDishes:\n",
    "#calculate cosine similarity with means \n",
    "    temp_dict = final_dict.get(str(userID))\n",
    "    i = 0\n",
    "    cosineSimilarities = {}\n",
    "    actualValuesdishID = {}\n",
    "\n",
    "    while i < len(final_dict):\n",
    "        #only consider users with validdishID ratings\n",
    "        dict_sub = final_dict.get(str(i))\n",
    "        if (dict_sub.get(int(dish))) != None:\n",
    "            #find common ratings between the subset\n",
    "            numerator = 0\n",
    "            denominatorLeft = 0\n",
    "            denominatorRight = 0\n",
    "            actualValuesdishID[i] = dict_sub.get(int(dish))\n",
    "            for key in dict_sub:\n",
    "                if temp_dict.get(key) != None:\n",
    "                    mult = temp_dict.get(key) * dict_sub.get(key)\n",
    "                    numerator = mult + numerator\n",
    "                    denominatorRight = (temp_dict.get(key) * temp_dict.get(key)) + denominatorRight\n",
    "                    denominatorLeft = (dict_sub.get(key) * dict_sub.get(key)) + denominatorLeft\n",
    "            if (denominatorRight != 0 and denominatorLeft != 0):\n",
    "                cosineSimilarities[i] = numerator/ (math.sqrt(denominatorRight) * math.sqrt(denominatorLeft))\n",
    "        i = i + 1\n",
    "        \n",
    "    if (final_dict.get(str(userID)).get(int(dish)) == None):\n",
    "        numerator = 0\n",
    "        denominator = 0\n",
    "        i = 0\n",
    "        for key in cosineSimilarities:\n",
    "            numerator = (cosineSimilarities.get(key) * \n",
    "                      (actualValuesdishID.get(key) - averages.get(key))) + numerator\n",
    "            denominator = cosineSimilarities.get(key) + denominator\n",
    "        prediction = sub_mean + (numerator/denominator)\n",
    "        predictions_dict[dish] = prediction\n",
    "        #print(\"Prediction\")\n",
    "        #print(prediction)\n",
    "    else:\n",
    "        #print(\"exists\")\n",
    "        existing_dict[dish] = final_dict.get(str(userID)).get(int(dish))\n",
    "        #print(final_dict.get(str(userID)).get(int(dish)))"
   ]
  },
  {
   "cell_type": "code",
   "execution_count": 165,
   "metadata": {
    "collapsed": false
   },
   "outputs": [
    {
     "name": "stdout",
     "output_type": "stream",
     "text": [
      "No dish with specified ingredients\n"
     ]
    }
   ],
   "source": [
    "#find all max items in dictionary\n",
    "if predictions_dict:\n",
    "    value = max(predictions_dict, key=predictions_dict.get)\n",
    "    print(\"Suggested dish: \")\n",
    "    print(dishes[dishes['dish_id']==value]['dish_name'].values[0])\n",
    "elif existing_dict:\n",
    "    value = max(existing_dict, key=existing_dict.get)\n",
    "    print(\"No new dish with specified ingredients\")\n",
    "    print(\"Your best-rated dish:\")\n",
    "    print(dishes[dishes['dish_id']==value]['dish_name'].values[0])\n",
    "else:\n",
    "    print(\"No dish with specified ingredients\")"
   ]
  },
  {
   "cell_type": "code",
   "execution_count": null,
   "metadata": {
    "collapsed": false
   },
   "outputs": [],
   "source": []
  },
  {
   "cell_type": "code",
   "execution_count": null,
   "metadata": {
    "collapsed": false
   },
   "outputs": [],
   "source": []
  },
  {
   "cell_type": "code",
   "execution_count": null,
   "metadata": {
    "collapsed": true
   },
   "outputs": [],
   "source": []
  },
  {
   "cell_type": "code",
   "execution_count": null,
   "metadata": {
    "collapsed": true
   },
   "outputs": [],
   "source": []
  }
 ],
 "metadata": {
  "kernelspec": {
   "display_name": "Python 3",
   "language": "python",
   "name": "python3"
  },
  "language_info": {
   "codemirror_mode": {
    "name": "ipython",
    "version": 3
   },
   "file_extension": ".py",
   "mimetype": "text/x-python",
   "name": "python",
   "nbconvert_exporter": "python",
   "pygments_lexer": "ipython3",
   "version": "3.6.1"
  }
 },
 "nbformat": 4,
 "nbformat_minor": 2
}
